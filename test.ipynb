{
 "cells": [
  {
   "cell_type": "code",
   "execution_count": 66,
   "metadata": {},
   "outputs": [
    {
     "name": "stdout",
     "output_type": "stream",
     "text": [
      "None\n"
     ]
    }
   ],
   "source": [
    "class Co:\n",
    "    def __init__(self):\n",
    "        pass\n",
    "    def __enter__(self):\n",
    "        return self\n",
    "    def __exit__(self,type,value,traceback):\n",
    "        print(value)\n",
    "\n",
    "with Co() as c:\n",
    "    # 1/\"\"\n",
    "    \"\"\"\"\"\""
   ]
  },
  {
   "cell_type": "code",
   "execution_count": 82,
   "metadata": {},
   "outputs": [
    {
     "data": {
      "text/plain": [
       "\"{'status': 'on', 'errors': {'type': 'none', 'value': 'on'}}\""
      ]
     },
     "execution_count": 82,
     "metadata": {},
     "output_type": "execute_result"
    }
   ],
   "source": [
    "#change dict to string\n",
    "d= { \"status\": \"on\", \"errors\": { \"type\": \"none\", \"value\": \"on\" } }\n",
    "str(d)"
   ]
  },
  {
   "cell_type": "code",
   "execution_count": 85,
   "metadata": {},
   "outputs": [
    {
     "ename": "AssertionError",
     "evalue": "must be a type dictionary",
     "output_type": "error",
     "traceback": [
      "\u001b[0;31m---------------------------------------------------------------------------\u001b[0m",
      "\u001b[0;31mAssertionError\u001b[0m                            Traceback (most recent call last)",
      "\u001b[1;32m/home/mercy/github/tradeapp_api_assistant/test.ipynb Cell 3'\u001b[0m in \u001b[0;36m<module>\u001b[0;34m\u001b[0m\n\u001b[1;32m     <a href='vscode-notebook-cell:/home/mercy/github/tradeapp_api_assistant/test.ipynb#ch0000002?line=16'>17</a>\u001b[0m             formatted_string \u001b[39m+\u001b[39m\u001b[39m=\u001b[39m \u001b[39mf\u001b[39m\u001b[39m\"\u001b[39m\u001b[39m{\u001b[39;00mkey\u001b[39m}\u001b[39;00m\u001b[39m : \u001b[39m\u001b[39m{\u001b[39;00mvalue\u001b[39m}\u001b[39;00m\u001b[39m \u001b[39m\u001b[39m\\n\u001b[39;00m\u001b[39m\"\u001b[39m\n\u001b[1;32m     <a href='vscode-notebook-cell:/home/mercy/github/tradeapp_api_assistant/test.ipynb#ch0000002?line=18'>19</a>\u001b[0m     \u001b[39mreturn\u001b[39;00m formatted_string\n\u001b[0;32m---> <a href='vscode-notebook-cell:/home/mercy/github/tradeapp_api_assistant/test.ipynb#ch0000002?line=20'>21</a>\u001b[0m \u001b[39mprint\u001b[39m(dict_to_string(\u001b[39m'\u001b[39;49m\u001b[39mhello\u001b[39;49m\u001b[39m'\u001b[39;49m))\n",
      "\u001b[1;32m/home/mercy/github/tradeapp_api_assistant/test.ipynb Cell 3'\u001b[0m in \u001b[0;36mdict_to_string\u001b[0;34m(d, issubdict, level)\u001b[0m\n\u001b[1;32m      <a href='vscode-notebook-cell:/home/mercy/github/tradeapp_api_assistant/test.ipynb#ch0000002?line=0'>1</a>\u001b[0m \u001b[39mdef\u001b[39;00m \u001b[39mdict_to_string\u001b[39m(d:\u001b[39mdict\u001b[39m,issubdict\u001b[39m=\u001b[39m\u001b[39mFalse\u001b[39;00m,level\u001b[39m=\u001b[39m\u001b[39m0\u001b[39m):\n\u001b[0;32m----> <a href='vscode-notebook-cell:/home/mercy/github/tradeapp_api_assistant/test.ipynb#ch0000002?line=1'>2</a>\u001b[0m     \u001b[39massert\u001b[39;00m \u001b[39misinstance\u001b[39m(d,\u001b[39mdict\u001b[39m), \u001b[39m\"\u001b[39m\u001b[39mmust be a type dictionary\u001b[39m\u001b[39m\"\u001b[39m\n\u001b[1;32m      <a href='vscode-notebook-cell:/home/mercy/github/tradeapp_api_assistant/test.ipynb#ch0000002?line=2'>3</a>\u001b[0m     dict_items \u001b[39m=\u001b[39m d\u001b[39m.\u001b[39mitems()\n\u001b[1;32m      <a href='vscode-notebook-cell:/home/mercy/github/tradeapp_api_assistant/test.ipynb#ch0000002?line=3'>4</a>\u001b[0m     formatted_string \u001b[39m=\u001b[39m \u001b[39m\"\u001b[39m\u001b[39m\"\u001b[39m\n",
      "\u001b[0;31mAssertionError\u001b[0m: must be a type dictionary"
     ]
    }
   ],
   "source": [
    "def dict_to_string(d:dict,issubdict=False,level=0):\n",
    "    assert isinstance(d,dict), \"must be a type dictionary\"\n",
    "    dict_items = d.items()\n",
    "    formatted_string = \"\"\n",
    "    level=level #level of the dict\n",
    "\n",
    "    if issubdict:\n",
    "        formatted_string = \"\\n\"+formatted_string\n",
    "    for key,value in dict_items:\n",
    "        if isinstance(value,dict):\n",
    "            new_level = level+1\n",
    "            value = dict_to_string(value,level=new_level,issubdict=True)\n",
    "        if issubdict:\n",
    "            nn='\\t'*level\n",
    "            formatted_string += f\"{nn}{key} : {value} \\n\"\n",
    "        else:\n",
    "            formatted_string += f\"{key} : {value} \\n\"\n",
    "\n",
    "    return formatted_string\n",
    "\n",
    "print(dict_to_string('hello'))"
   ]
  },
  {
   "cell_type": "code",
   "execution_count": null,
   "metadata": {},
   "outputs": [],
   "source": []
  }
 ],
 "metadata": {
  "interpreter": {
   "hash": "dc66a5ab363f95faecba94cda0f5d48135fa594c89ec022be09cc2caf736a12f"
  },
  "kernelspec": {
   "display_name": "Python 3.9.7 ('venv': venv)",
   "language": "python",
   "name": "python3"
  },
  "language_info": {
   "codemirror_mode": {
    "name": "ipython",
    "version": 3
   },
   "file_extension": ".py",
   "mimetype": "text/x-python",
   "name": "python",
   "nbconvert_exporter": "python",
   "pygments_lexer": "ipython3",
   "version": "3.9.7"
  },
  "orig_nbformat": 4
 },
 "nbformat": 4,
 "nbformat_minor": 2
}
